{
  "nbformat": 4,
  "nbformat_minor": 0,
  "metadata": {
    "colab": {
      "provenance": [],
      "authorship_tag": "ABX9TyN2GHQnBUMynVnuMm5cD9cL",
      "include_colab_link": true
    },
    "kernelspec": {
      "name": "python3",
      "display_name": "Python 3"
    },
    "language_info": {
      "name": "python"
    }
  },
  "cells": [
    {
      "cell_type": "markdown",
      "metadata": {
        "id": "view-in-github",
        "colab_type": "text"
      },
      "source": [
        "<a href=\"https://colab.research.google.com/github/FagerholmEmil/FagerholmEmil/blob/main/Founders.ipynb\" target=\"_parent\"><img src=\"https://colab.research.google.com/assets/colab-badge.svg\" alt=\"Open In Colab\"/></a>"
      ]
    },
    {
      "cell_type": "code",
      "execution_count": 1,
      "metadata": {
        "id": "5MedqixpEEPG"
      },
      "outputs": [],
      "source": [
        "# https://www.listennotes.com/podcasts/founders-david-senra-NnlwdKuT1PZ/"
      ]
    },
    {
      "cell_type": "code",
      "source": [
        "# create an api"
      ],
      "metadata": {
        "id": "0SMqMBHLEjYk"
      },
      "execution_count": 2,
      "outputs": []
    },
    {
      "cell_type": "code",
      "source": [],
      "metadata": {
        "id": "5V0ujCQ_ElSh"
      },
      "execution_count": null,
      "outputs": []
    }
  ]
}